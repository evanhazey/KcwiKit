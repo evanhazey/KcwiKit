{
 "cells": [
  {
   "cell_type": "code",
   "execution_count": 2,
   "id": "c6900b90-78d9-4cdc-b922-f97b18b18cc9",
   "metadata": {},
   "outputs": [],
   "source": [
    "import numpy as np\n",
    "from astropy.io import fits\n",
    "import matplotlib.pyplot as plt\n",
    "from astropy.stats import sigma_clip\n",
    "from glob import glob\n",
    "from astropy.table import Table\n",
    "import os\n",
    "import re\n",
    "from astropy.visualization import MinMaxInterval, ZScaleInterval, LinearStretch, LogStretch, SqrtStretch, ImageNormalize\n",
    "from astroscrappy import detect_cosmics\n",
    "from glob import glob"
   ]
  },
  {
   "cell_type": "code",
   "execution_count": 3,
   "id": "d34e7468-9140-4171-b081-c2c140c91f88",
   "metadata": {},
   "outputs": [],
   "source": [
    "log = Table.read('KCRM_2023Oct.csv', format = 'csv')\n",
    "kcrm = log[log['Camera'] == 'RED']"
   ]
  },
  {
   "cell_type": "code",
   "execution_count": 4,
   "id": "3bf256be-fc40-43cd-a12d-e5386b329a9e",
   "metadata": {},
   "outputs": [],
   "source": [
    "sci_frames = np.arange(67, 172)\n",
    "# badframe = [127, 128, 129, 130]\n",
    "base = '/scr/zzhuang/keck_obs/kcwi/2023oct13/red/'\n",
    "redux = os.path.join(base, 'redux')\n",
    "# sci_frames = np.arange(117, 120)"
   ]
  },
  {
   "cell_type": "code",
   "execution_count": 5,
   "id": "fdfadb7c-bafe-4217-b624-2cae5c41732a",
   "metadata": {},
   "outputs": [],
   "source": [
    "# std_fno = np.arange(78, 85)\n",
    "# for n in std_fno:\n",
    "#     path = os.path.join(base, f'kr230923_{n:05d}.fits')\n",
    "#     if not os.path.exists(path):\n",
    "#         continue\n",
    "#     data = fits.open(os.path.join(base, f'kr230923_{n:05d}.fits'))\n",
    "#     data[0].header['OBJECT'] = 'bd28d4211'\n",
    "#     data.writeto(os.path.join(base, f'kr230923_{n:05d}.fits'), overwrite = True)"
   ]
  },
  {
   "cell_type": "code",
   "execution_count": 5,
   "id": "78057ece-3a8f-411d-8475-0a124bfdd4c3",
   "metadata": {},
   "outputs": [
    {
     "name": "stdout",
     "output_type": "stream",
     "text": [
      "/scr/zzhuang/keck_obs/kcwi/2023oct13/red/kr231013_00054.fits\n"
     ]
    }
   ],
   "source": [
    "obj_dict = {}\n",
    "for i, row in enumerate(kcrm):\n",
    "    if not os.path.exists(os.path.join(base, row['No.'])):\n",
    "        print(os.path.join(base, row['No.']))\n",
    "        continue\n",
    "    fno = int(row['No.'][9:-5])\n",
    "    if (fno in sci_frames) :\n",
    "        objname = '%s_%i'%(row['Object'], np.round(row['Sky PA']))\n",
    "        if objname not in obj_dict.keys():\n",
    "            # print(objname)\n",
    "            obj_dict[objname] = []\n",
    "        obj_dict[objname].append(row['No.'])"
   ]
  },
  {
   "cell_type": "code",
   "execution_count": 7,
   "id": "bb0106af-165f-4ccd-9e55-8cbd4c570908",
   "metadata": {},
   "outputs": [
    {
     "data": {
      "text/plain": [
       "['kr231013_00170.fits', 'kr231013_00171.fits']"
      ]
     },
     "execution_count": 7,
     "metadata": {},
     "output_type": "execute_result"
    }
   ],
   "source": [
    "obj_dict['G191B2B_300']"
   ]
  },
  {
   "cell_type": "code",
   "execution_count": 8,
   "id": "f144e79d-0e36-4bc7-bec4-f0f06f3baf88",
   "metadata": {},
   "outputs": [],
   "source": [
    "wavemap_path = glob(os.path.join(redux, '*wavemap.fits'))[0]\n",
    "wavemap = fits.getdata(wavemap_path)"
   ]
  },
  {
   "cell_type": "code",
   "execution_count": 37,
   "id": "60658b9a-4e4c-4a21-959d-8fccff990df8",
   "metadata": {},
   "outputs": [
    {
     "name": "stdout",
     "output_type": "stream",
     "text": [
      "######################bd_28d4211_0##############\n",
      "1.0 0.8955371\n",
      "1.0 1.248801\n",
      "1.0 1.0\n",
      "######################gal071_866_0##############\n",
      "1.0665883 1.0661869\n",
      "1.0437998 1.0428362\n",
      "1.0375475 1.0352458\n",
      "######################gal071_866_sky_0##############\n",
      "1.0901265 1.0879343\n",
      "1.071155 1.0666507\n",
      "1.0598849 1.0521145\n",
      "######################gal071_866_90##############\n",
      "1.0310231 1.0289009\n",
      "1.0488497 1.045248\n",
      "1.0660174 1.0660825\n",
      "######################gal058_855_90##############\n",
      "1.1358184 1.1294658\n",
      "1.0714294 1.0720206\n",
      "1.0649741 1.0636659\n",
      "1.0751623 1.0738764\n",
      "######################gal058_855_sky_90##############\n",
      "1.051724 1.0497689\n",
      "1.0439906 1.0426735\n",
      "1.0572002 1.053978\n",
      "######################gal058_855_0##############\n",
      "1.0645288 1.0630643\n",
      "1.056757 1.0542074\n",
      "1.0322223 1.0325104\n",
      "######################gal089_879_0##############\n",
      "1.0341694 1.0311944\n",
      "1.0626165 1.0617409\n",
      "1.0467722 1.0452362\n",
      "######################gal089_879_90##############\n",
      "1.0792667 1.0768219\n",
      "1.0503943 1.048737\n",
      "1.0229645 1.0210882\n",
      "######################gal003_806_90##############\n",
      "1.0576868 1.0558859\n",
      "1.0542195 1.0523806\n",
      "1.0396891 1.0389113\n",
      "######################gal003_806_sky_90##############\n",
      "1.0713929 1.0689046\n",
      "1.0618674 1.0607635\n",
      "1.0288924 1.0272677\n",
      "######################gal003_806_0##############\n",
      "1.1215202 1.1155615\n",
      "1.0978593 1.0982192\n",
      "1.0831606 1.0807347\n",
      "1.0544714 1.053041\n",
      "######################gal022_833_0##############\n",
      "1.0890054 1.0880075\n",
      "1.0518119 1.051089\n",
      "1.0276909 1.0293165\n",
      "######################gal022_833_sky_0##############\n",
      "1.0858837 1.0840987\n",
      "1.0766351 1.0753865\n",
      "1.0255337 1.0233929\n",
      "######################gal007_816_0##############\n",
      "1.0467455 1.0457412\n",
      "1.0562212 1.0517772\n",
      "1.0649236 1.0630292\n",
      "######################gal007_816_90##############\n",
      "1.0811977 1.0776799\n",
      "1.0433213 1.0425957\n",
      "1.052415 1.0473149\n",
      "######################galqui003_880_90##############\n",
      "1.049798 1.0500274\n",
      "1.0469909 1.043327\n",
      "1.0684516 1.0665379\n",
      "######################galqui003_880_0##############\n",
      "1.1103038 1.1088053\n",
      "1.0958691 1.0916584\n",
      "1.0697247 1.0743315\n",
      "1.0866575 1.0843594\n",
      "######################galqui003_880sk_0##############\n",
      "1.0557799 1.0538627\n",
      "1.0565567 1.0567441\n",
      "1.0593036 1.0564375\n",
      "######################gal090_884_sky_0##############\n",
      "1.0 1.0\n",
      "1.0198213 1.0187193\n",
      "######################gal090_884_90##############\n",
      "1.0917841 1.0857004\n",
      "1.0593988 1.0629426\n",
      "1.1080298 1.1047044\n",
      "######################gal015_829_0##############\n",
      "1.0380794 1.0357237\n",
      "1.0644379 1.0621219\n",
      "1.0802962 1.081108\n",
      "######################gal015_829_90##############\n",
      "1.0654733 1.0644453\n",
      "1.0622666 1.0588914\n",
      "1.0534353 1.0530462\n",
      "######################gal105_896_90##############\n",
      "1.0399903 1.0359348\n",
      "1.0645157 1.0635401\n",
      "1.080055 1.07795\n",
      "######################gal105_896_0##############\n",
      "1.0355761 1.0349624\n",
      "1.0528607 1.0500965\n",
      "1.0978637 1.0945904\n",
      "######################G191B2B_300##############\n",
      "1.0 1.0\n",
      "1.2929906 1.1908696\n"
     ]
    }
   ],
   "source": [
    "for obj in list(obj_dict.keys()):\n",
    "    if 'gal' not in obj and len(obj_dict[obj]) >= 3:\n",
    "        msci = np.median([fits.getdata(os.path.join(redux, 'int_nocrmsk', re.sub('.fits', '_int.fits', f))) for f in obj_dict[obj]], axis = 0)\n",
    "    else:\n",
    "        msci = np.min([fits.getdata(os.path.join(redux, 'int_nocrmsk', re.sub('.fits', '_int.fits', f))) for f in obj_dict[obj]], axis = 0)\n",
    "    mhdu = fits.open(os.path.join(redux, 'int_nocrmsk', re.sub('.fits', '_int.fits', obj_dict[obj][0])))\n",
    "    mhdu[0].data = msci\n",
    "    mhdu.writeto(os.path.join(redux, 'int_median', '%s_int.fits'%obj), overwrite = True)\n",
    "    print('######################%s##############'%obj)\n",
    "    for f in obj_dict[obj]:\n",
    "        img_hdu = fits.open(os.path.join(redux, 'int_nocrmsk', re.sub('.fits', '_int.fits', f)))\n",
    "        img = img_hdu[0].data\n",
    "        \n",
    "        ratio = np.median(img[wavemap > 0] / msci[wavemap > 0])\n",
    "\n",
    "        crs = img - msci\n",
    "        crmsk = sigma_clip(crs, sigma = 3, maxiters=1, grow=2).mask.astype(float)\n",
    "        crmsk_surr = sigma_clip(crs, sigma = 3, maxiters=1, grow=10).mask.astype(float)\n",
    "\n",
    "        idx = np.where((crmsk < 1e-4) & (crmsk_surr > 1e-4) & (wavemap > 0) )\n",
    "        ratio2 = np.median(img[idx]/msci[idx])\n",
    "        \n",
    "        print(ratio, ratio2)\n",
    "\n",
    "        crmsk_med = crmsk * msci * ratio2\n",
    "        crmsk_med[crmsk_med < 1e-4] = 0\n",
    "\n",
    "        primary = fits.PrimaryHDU(crmsk, header=img_hdu[0].header)\n",
    "        med = fits.ImageHDU(crmsk_med, name='MEDSCI')\n",
    "        sur = fits.ImageHDU(crmsk_surr, name = 'CRMSK_SUR')\n",
    "        hdul = fits.HDUList([primary, med, sur])\n",
    "        hdul.writeto(os.path.join(redux, re.sub('.fits', '_crmsk.fits', f)), overwrite=True)"
   ]
  },
  {
   "cell_type": "code",
   "execution_count": 9,
   "id": "99c97276-38e3-406b-b6aa-fc0c4df5a2ba",
   "metadata": {},
   "outputs": [
    {
     "name": "stdout",
     "output_type": "stream",
     "text": [
      "######################G191B2B_300##############\n",
      "1.0 1.0\n",
      "1.2929906 1.1908696\n"
     ]
    }
   ],
   "source": [
    "obj = 'G191B2B_300'\n",
    "if 'gal' not in obj and len(obj_dict[obj]) >= 3:\n",
    "    msci = np.median([fits.getdata(os.path.join(redux, 'int_nocrmsk', re.sub('.fits', '_int.fits', f))) for f in obj_dict[obj]], axis = 0)\n",
    "else:\n",
    "    msci = np.min([fits.getdata(os.path.join(redux, 'int_nocrmsk', re.sub('.fits', '_int.fits', f))) for f in obj_dict[obj]], axis = 0)\n",
    "mhdu = fits.open(os.path.join(redux, 'int_nocrmsk', re.sub('.fits', '_int.fits', obj_dict[obj][0])))\n",
    "mhdu[0].data = msci\n",
    "mhdu.writeto(os.path.join(redux, 'int_median', '%s_int.fits'%obj), overwrite = True)\n",
    "print('######################%s##############'%obj)\n",
    "for f in obj_dict[obj]:\n",
    "    img_hdu = fits.open(os.path.join(redux, 'int_nocrmsk', re.sub('.fits', '_int.fits', f)))\n",
    "    img = img_hdu[0].data\n",
    "\n",
    "    ratio = np.median(img[wavemap > 0] / msci[wavemap > 0])\n",
    "\n",
    "    crs = img - msci\n",
    "    crmsk = sigma_clip(crs, sigma = 3, maxiters=1, grow=2).mask.astype(float)\n",
    "    crmsk_surr = sigma_clip(crs, sigma = 3, maxiters=1, grow=10).mask.astype(float)\n",
    "\n",
    "    idx = np.where((crmsk < 1e-4) & (crmsk_surr > 1e-4) & (wavemap > 0) )\n",
    "    ratio2 = np.median(img[idx]/msci[idx])\n",
    "\n",
    "    print(ratio, ratio2)\n",
    "\n",
    "    crmsk_med = crmsk * msci * ratio2\n",
    "    crmsk_med[crmsk_med < 1e-4] = 0\n",
    "\n",
    "    primary = fits.PrimaryHDU(crmsk, header=img_hdu[0].header)\n",
    "    med = fits.ImageHDU(crmsk_med, name='MEDSCI')\n",
    "    sur = fits.ImageHDU(crmsk_surr, name = 'CRMSK_SUR')\n",
    "    hdul = fits.HDUList([primary, med, sur])\n",
    "    hdul.writeto(os.path.join(redux, re.sub('.fits', '_crmsk.fits', f)), overwrite=True)"
   ]
  },
  {
   "cell_type": "code",
   "execution_count": null,
   "id": "fe556250-d7c3-4265-9730-f7fc4e03a472",
   "metadata": {},
   "outputs": [],
   "source": []
  },
  {
   "cell_type": "code",
   "execution_count": 12,
   "id": "5c0b22df-2180-4841-855e-a893fa859e1e",
   "metadata": {},
   "outputs": [
    {
     "name": "stdout",
     "output_type": "stream",
     "text": [
      "######################gal090_884_0##############\n",
      "1.0968719 1.0967286\n",
      "1.0648642 1.0629443\n",
      "1.0280719 1.0266125\n"
     ]
    }
   ],
   "source": [
    "obj = 'gal090_884_0'\n",
    "if 'gal' not in obj and len(obj_dict[obj]) >= 3:\n",
    "    msci = np.median([fits.getdata(os.path.join(redux, 'int_nocrmsk', re.sub('.fits', '_int.fits', f))) for f in obj_dict[obj]], axis = 0)\n",
    "else:\n",
    "    msci = np.min([fits.getdata(os.path.join(redux, 'int_nocrmsk', re.sub('.fits', '_int.fits', f))) for f in obj_dict[obj]], axis = 0)\n",
    "mhdu = fits.open(os.path.join(redux, 'int_nocrmsk', re.sub('.fits', '_int.fits', obj_dict[obj][0])))\n",
    "mhdu[0].data = msci\n",
    "mhdu.writeto(os.path.join(redux, 'int_median', '%s_int.fits'%obj), overwrite = True)\n",
    "print('######################%s##############'%obj)\n",
    "for f in obj_dict[obj]:\n",
    "    img_hdu = fits.open(os.path.join(redux, 'int_nocrmsk', re.sub('.fits', '_int.fits', f)))\n",
    "    img = img_hdu[0].data\n",
    "\n",
    "    ratio = np.median(img[wavemap > 0] / msci[wavemap > 0])\n",
    "\n",
    "    crs = img - msci\n",
    "    crmsk = sigma_clip(crs, sigma = 3, maxiters=1, grow=2).mask.astype(float)\n",
    "    crmsk_surr = sigma_clip(crs, sigma = 3, maxiters=1, grow=10).mask.astype(float)\n",
    "\n",
    "    idx = np.where((crmsk < 1e-4) & (crmsk_surr > 1e-4) & (wavemap > 0) )\n",
    "    ratio2 = np.median(img[idx]/msci[idx])\n",
    "\n",
    "    print(ratio, ratio2)\n",
    "\n",
    "    crmsk_med = crmsk * msci * ratio2\n",
    "    crmsk_med[crmsk_med < 1e-4] = 0\n",
    "\n",
    "    primary = fits.PrimaryHDU(crmsk, header=img_hdu[0].header)\n",
    "    med = fits.ImageHDU(crmsk_med, name='MEDSCI')\n",
    "    sur = fits.ImageHDU(crmsk_surr, name = 'CRMSK_SUR')\n",
    "    hdul = fits.HDUList([primary, med, sur])\n",
    "    hdul.writeto(os.path.join(redux, re.sub('.fits', '_crmsk.fits', f)), overwrite=True)"
   ]
  },
  {
   "cell_type": "code",
   "execution_count": null,
   "id": "0d49e4cb-c0ea-4b76-9281-8156ff741870",
   "metadata": {},
   "outputs": [
    {
     "data": {
      "text/plain": [
       "array([[0., 0., 0., ..., 0., 0., 0.],\n",
       "       [0., 0., 0., ..., 0., 0., 0.],\n",
       "       [0., 0., 0., ..., 0., 0., 0.],\n",
       "       ...,\n",
       "       [0., 0., 0., ..., 0., 0., 0.],\n",
       "       [0., 0., 0., ..., 0., 0., 0.],\n",
       "       [0., 0., 0., ..., 0., 0., 0.]])"
      ]
     },
     "execution_count": 28,
     "metadata": {},
     "output_type": "execute_result"
    }
   ],
   "source": [
    "data['MEDSCI'].data"
   ]
  },
  {
   "cell_type": "code",
   "execution_count": 71,
   "id": "ee381c75-fa38-4e8f-877e-6ceb84e02e79",
   "metadata": {},
   "outputs": [],
   "source": [
    "#making sky file for the image\n",
    "filelist = []\n",
    "reglist = []\n",
    "skylist = []\n",
    "for obj in list(obj_dict.keys()):\n",
    "    if 'sky' not in obj and 'gal' in obj:\n",
    "        skymask = False\n",
    "        skyfile = None\n",
    "        for f in obj_dict[obj]:\n",
    "            fname = re.sub('.fits', '', f)\n",
    "            \n",
    "            #adding the file name of a science frame into the list\n",
    "            filelist.append('%s\\n'%f)\n",
    "            \n",
    "            #remove the existing _sky.fits\n",
    "            if os.path.exists(f'{redux}/{fname}_sky.fits'):\n",
    "                os.remove(f'{redux}/{fname}_sky.fits')\n",
    "            \n",
    "            #adding the region file to run the mask sky\n",
    "            path = os.path.join(redux, re.sub('.fits', '.reg', f))\n",
    "            if os.path.exists(path):\n",
    "                reglist.append(f'kcwi_masksky_ds9 {fname}_intf.fits {fname}.reg\\n')\n",
    "            \n",
    "                skymask = True\n",
    "                skyfile = f'redux/{fname}_smsk.fits'\n",
    "                \n",
    "            if skymask:\n",
    "                skylist.append(f'{f} {f} {skyfile}\\n')\n",
    "            else:\n",
    "                skylist.append(f'{f} {f}\\n')\n",
    "            \n",
    "            \n",
    "# with open(os.path.join(base, 'objects.list'), 'w') as file1:\n",
    "#     file1.writelines(filelist)\n",
    "    \n",
    "# with open(os.path.join(redux, 'do_masksky.sh'), 'w') as file2:\n",
    "#     file2.writelines(reglist)\n",
    "    \n",
    "# with open(os.path.join(base, 'kcwi.sky'), 'w') as file3:\n",
    "#     file3.writelines(skylist)\n",
    "    "
   ]
  },
  {
   "cell_type": "code",
   "execution_count": 19,
   "id": "af692764-db49-4c0c-b0cd-b9f7fa9a4ac5",
   "metadata": {},
   "outputs": [],
   "source": [
    "import math\n",
    "import ref_index\n"
   ]
  },
  {
   "cell_type": "code",
   "execution_count": 20,
   "id": "c8a17d2f-d2aa-4667-93d1-5a65b2df1f35",
   "metadata": {},
   "outputs": [],
   "source": [
    "def atm_disper(w0, w1, airmass, temperature=10.0, pressure_pa=61100.0,\n",
    "               humidity=50.0, co2=400.0):\n",
    "    \"\"\"\n",
    "\n",
    "    Calculate atmospheric dispersion at w1 relative to w0\n",
    "\n",
    "    Args:\n",
    "        w0 (float): reference wavelength (Angstroms)\n",
    "        w1 (float): offset wavelength (Angstroms)\n",
    "        airmass (float): unitless airmass\n",
    "        temperature (float): atmospheric temperature (C)\n",
    "        pressure_pa (float): atmospheric pressure (Pa)\n",
    "        humidity (float): relative humidity (%)\n",
    "        co2 (float): Carbon-Dioxide (mu-mole/mole)\n",
    "\n",
    "    \"\"\"\n",
    "\n",
    "    # Calculate\n",
    "    z = math.acos(1.0/airmass)\n",
    "\n",
    "    n0 = ref_index.ciddor(wave=w0/10., t=temperature, p=pressure_pa,\n",
    "                          rh=humidity, co2=co2)\n",
    "    n1 = ref_index.ciddor(wave=w1/10., t=temperature, p=pressure_pa,\n",
    "                          rh=humidity, co2=co2)\n",
    "\n",
    "    return 206265.0 * (n0 - n1) * math.tan(z)"
   ]
  },
  {
   "cell_type": "code",
   "execution_count": null,
   "id": "0e0e4d3a-a9b3-4063-8f11-1629ccdf9b65",
   "metadata": {},
   "outputs": [
    {
     "name": "stderr",
     "output_type": "stream",
     "text": [
      "/scr/zzhuang/software/anaconda3/lib/python3.9/site-packages/ref_index.py:481: RuntimeWarning: divide by zero encountered in double_scalars\n",
      "  S = 1.0 / wave ** 2\n",
      "/scr/zzhuang/software/anaconda3/lib/python3.9/site-packages/ref_index.py:484: RuntimeWarning: invalid value encountered in double_scalars\n",
      "  rvs = 1.022e-8 * (w0 + w1 * S + w2 * S ** 2 + w3 * S ** 3)\n"
     ]
    }
   ],
   "source": [
    "nwave = 6000\n",
    "waves = 3278.0 + np.arange(nwave) * 1\n",
    "disp = np.empty(nwave)\n",
    "for i, wl in enumerate(waves):\n",
    "    disp[i] = atm_disper(6000, wl, 1.2)"
   ]
  },
  {
   "cell_type": "code",
   "execution_count": 41,
   "id": "7dd9eccf-60cb-4990-b950-9b5eddc6fde6",
   "metadata": {},
   "outputs": [
    {
     "data": {
      "text/plain": [
       "array([3278., 3279., 3280., ..., 9275., 9276., 9277.])"
      ]
     },
     "execution_count": 43,
     "metadata": {},
     "output_type": "execute_result"
    }
   ],
   "source": [
    "waves"
   ]
  },
  {
   "cell_type": "code",
   "execution_count": 39,
   "id": "bb5a1528-208c-4b3a-99b1-139c9519c643",
   "metadata": {},
   "outputs": [
    {
     "data": {
      "text/plain": [
       "4305.0"
      ]
     },
     "execution_count": 39,
     "metadata": {},
     "output_type": "execute_result"
    }
   ],
   "source": [
    "waves[np.argmin(np.abs(disp - 0.5*(disp[0] + disp[-1])))]"
   ]
  },
  {
   "cell_type": "code",
   "execution_count": 40,
   "id": "2af511cb-b805-43cb-8131-7136bdf2f4ec",
   "metadata": {},
   "outputs": [
    {
     "data": {
      "text/plain": [
       "[<matplotlib.lines.Line2D at 0x7f751b227dc0>]"
      ]
     },
     "execution_count": 40,
     "metadata": {},
     "output_type": "execute_result"
    },
    {
     "data": {
      "image/png": "[encoded data removed]",
      "text/plain": [
       "<Figure size 432x288 with 1 Axes>"
      ]
     },
     "metadata": {
      "needs_background": "light"
     },
     "output_type": "display_data"
    }
   ],
   "source": [
    "plt.plot(waves, disp)"
   ]
  },
  {
   "cell_type": "code",
   "execution_count": 38,
   "id": "1c9c779f-b886-4b0f-b711-ee1dd0211904",
   "metadata": {},
   "outputs": [
    {
     "data": {
      "text/plain": [
       "-0.3637367714368431"
      ]
     },
     "execution_count": 38,
     "metadata": {},
     "output_type": "execute_result"
    }
   ],
   "source": [
    "0.5*(disp[0] + disp[-1])"
   ]
  },
  {
   "cell_type": "code",
   "execution_count": null,
   "id": "22106f33-255e-4fad-b8ad-6d4ba66b77cb",
   "metadata": {},
   "outputs": [],
   "source": []
  }
 ],
 "metadata": {
  "kernelspec": {
   "display_name": "Python 3 (ipykernel)",
   "language": "python",
   "name": "python3"
  },
  "language_info": {
   "codemirror_mode": {
    "name": "ipython",
    "version": 3
   },
   "file_extension": ".py",
   "mimetype": "text/x-python",
   "name": "python",
   "nbconvert_exporter": "python",
   "pygments_lexer": "ipython3",
   "version": "3.9.7"
  }
 },
 "nbformat": 4,
 "nbformat_minor": 5
}
