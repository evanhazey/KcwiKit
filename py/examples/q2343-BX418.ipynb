{
 "cells": [
  {
   "cell_type": "code",
   "execution_count": 1,
   "metadata": {},
   "outputs": [],
   "source": [
    "import os\n",
    "import numpy as np\n",
    "import glob\n",
    "import kcwi\n",
    "import pdb\n",
    "import importlib\n",
    "\n",
    "%reload_ext autoreload\n",
    "%autoreload\n",
    "%matplotlib inline"
   ]
  },
  {
   "cell_type": "code",
   "execution_count": 2,
   "metadata": {},
   "outputs": [],
   "source": [
    "fn='q2343-BX418.list'"
   ]
  },
  {
   "cell_type": "code",
   "execution_count": 3,
   "metadata": {},
   "outputs": [
    {
     "name": "stdout",
     "output_type": "stream",
     "text": [
      "Projecting...\n",
      "kb181110_00060_icubes.fits\n",
      "     Vcorr = -10.6755695817852 km / s\n",
      "     EXPTIME = 600.0\n",
      "kb181110_00061_icubes.fits\n",
      "     Vcorr = -10.690894024456224 km / s\n",
      "     EXPTIME = 1200.0\n",
      "kb181110_00062_icubes.fits\n",
      "     Vcorr = -10.720044050596838 km / s\n",
      "     EXPTIME = 1200.0\n",
      "kb181110_00063_icubes.fits\n",
      "     Vcorr = -10.752064784103537 km / s\n",
      "     EXPTIME = 1200.0\n",
      "kb181110_00064_icubes.fits\n",
      "     Vcorr = -10.786795787537027 km / s\n",
      "     EXPTIME = 1200.0\n",
      "kb181110_00065_icubes.fits\n",
      "     Vcorr = -10.823995724254162 km / s\n",
      "     EXPTIME = 1200.0\n",
      "kb181110_00066_icubes.fits\n",
      "     Vcorr = -10.863278382674816 km / s\n",
      "     EXPTIME = 1200.0\n",
      "kb170922_00044_icubes.fits\n",
      "     Vcorr = 13.659568731648712 km / s\n",
      "     EXPTIME = 1200.0\n",
      "kb170922_00046_icubes.fits\n",
      "     Vcorr = 13.616344973796751 km / s\n",
      "     EXPTIME = 1200.0\n",
      "kb170922_00048_icubes.fits\n",
      "     Vcorr = 13.560961023818015 km / s\n",
      "     EXPTIME = 1200.0\n",
      "kb170922_00050_icubes.fits\n",
      "     Vcorr = 13.488887096246133 km / s\n",
      "     EXPTIME = 1200.0\n",
      "kb170922_00052_icubes.fits\n",
      "     Vcorr = 13.411875688996096 km / s\n",
      "    Setting EXPTIME = 1109.437000000008\n",
      "     EXPTIME = 1109.437000000008\n",
      "kb170922_00054_icubes.fits\n",
      "     Vcorr = 13.218052837129514 km / s\n",
      "     EXPTIME = 1200.0\n",
      "kb170923_00042_icubes.fits\n",
      "     Vcorr = 13.190458307910665 km / s\n",
      "     EXPTIME = 1200.0\n",
      "kb170923_00044_icubes.fits\n",
      "     Vcorr = 13.141768680870786 km / s\n",
      "     EXPTIME = 1200.0\n",
      "kb170923_00046_icubes.fits\n",
      "     Vcorr = 13.082058070808936 km / s\n",
      "     EXPTIME = 1200.0\n"
     ]
    },
    {
     "name": "stderr",
     "output_type": "stream",
     "text": [
      "\r",
      "  0%|          | 0/100 [00:00<?, ?it/s]"
     ]
    },
    {
     "name": "stdout",
     "output_type": "stream",
     "text": [
      "Stacking...\n"
     ]
    },
    {
     "name": "stderr",
     "output_type": "stream",
     "text": [
      " 10%|█         | 10/100 [00:00<00:03, 26.83it/s]/scr/yuguangchen/Soft/py/kcwi/kcwi.py:805: RuntimeWarning: divide by zero encountered in true_divide\n",
      "  data_3d[ii,:,:]=np.transpose(np.nansum(img*weight,axis=0)/np.nansum(weight,axis=0))\n",
      "/scr/yuguangchen/Soft/py/kcwi/kcwi.py:805: RuntimeWarning: invalid value encountered in true_divide\n",
      "  data_3d[ii,:,:]=np.transpose(np.nansum(img*weight,axis=0)/np.nansum(weight,axis=0))\n",
      "/scr/yuguangchen/Soft/py/kcwi/kcwi.py:806: RuntimeWarning: divide by zero encountered in true_divide\n",
      "  vdata_3d[ii,:,:]=np.transpose(np.nansum(weight**2*var,axis=0)/np.nansum(weight,axis=0)**2)\n",
      "/scr/yuguangchen/Soft/py/kcwi/kcwi.py:806: RuntimeWarning: invalid value encountered in true_divide\n",
      "  vdata_3d[ii,:,:]=np.transpose(np.nansum(weight**2*var,axis=0)/np.nansum(weight,axis=0)**2)\n",
      "100%|██████████| 100/100 [00:24<00:00,  4.11it/s]\n"
     ]
    }
   ],
   "source": [
    "kcwi.kcwi_stack(fn,overwrite=True)"
   ]
  },
  {
   "cell_type": "code",
   "execution_count": 4,
   "metadata": {},
   "outputs": [
    {
     "name": "stdout",
     "output_type": "stream",
     "text": [
      "q2343-BX418.list\n",
      "Iter: 1/2\n",
      "Iter: 2/2\n",
      "0.40000000000000013 -0.7\n"
     ]
    },
    {
     "data": {
      "image/png": "[encoded data removed]",
      "text/plain": [
       "<Figure size 432x288 with 1 Axes>"
      ]
     },
     "metadata": {
      "needs_background": "light"
     },
     "output_type": "display_data"
    }
   ],
   "source": [
    "kcwi.kcwi_astrometry(fn)"
   ]
  },
  {
   "cell_type": "code",
   "execution_count": null,
   "metadata": {},
   "outputs": [],
   "source": []
  }
 ],
 "metadata": {
  "kernelspec": {
   "display_name": "Python [conda env:montage]",
   "language": "python",
   "name": "conda-env-montage-py"
  },
  "language_info": {
   "codemirror_mode": {
    "name": "ipython",
    "version": 3
   },
   "file_extension": ".py",
   "mimetype": "text/x-python",
   "name": "python",
   "nbconvert_exporter": "python",
   "pygments_lexer": "ipython3",
   "version": "3.6.8"
  }
 },
 "nbformat": 4,
 "nbformat_minor": 2
}
