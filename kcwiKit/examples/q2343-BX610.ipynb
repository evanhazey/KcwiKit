{
 "cells": [
  {
   "cell_type": "code",
   "execution_count": 1,
   "metadata": {},
   "outputs": [],
   "source": [
    "import os\n",
    "import numpy as np\n",
    "import glob\n",
    "import kcwi\n",
    "import pdb\n",
    "import importlib\n",
    "\n",
    "%reload_ext autoreload\n",
    "%autoreload\n",
    "%matplotlib inline\n",
    "\n",
    "from astropy.utils import iers\n",
    "iers.Conf.iers_auto_url.set('ftp://cddis.gsfc.nasa.gov/pub/products/iers/finals2000A.all')"
   ]
  },
  {
   "cell_type": "code",
   "execution_count": 3,
   "metadata": {},
   "outputs": [],
   "source": [
    "fn='q2343-BX610.list'"
   ]
  },
  {
   "cell_type": "code",
   "execution_count": 4,
   "metadata": {},
   "outputs": [
    {
     "name": "stdout",
     "output_type": "stream",
     "text": [
      "kb191129_00041_icubes.fits\n",
      "kb191129_00040_icubes.fits\n",
      "kb191129_00042_icubes.fits\n",
      "kb191129_00043_icubes.fits\n",
      "kb191129_00044_icubes.fits\n",
      "kb191129_00045_icubes.fits\n",
      "kb191129_00046_icubes.fits\n",
      "kb191129_00047_icubes.fits\n",
      "kb191129_00048_icubes.fits\n",
      "kb191129_00049_icubes.fits\n",
      "kb191129_00050_icubes.fits\n",
      "kb191129_00051_icubes.fits\n",
      "kb191229_00044_icubes.fits\n",
      "kb191229_00045_icubes.fits\n",
      "kb191229_00046_icubes.fits\n",
      "kb191229_00047_icubes.fits\n"
     ]
    }
   ],
   "source": [
    "kcwi.kcwi_align(fn,noalign=True)"
   ]
  },
  {
   "cell_type": "code",
   "execution_count": 5,
   "metadata": {},
   "outputs": [
    {
     "name": "stdout",
     "output_type": "stream",
     "text": [
      "kb191129_00041_icubes.fits\n",
      "kb191129_00040_icubes.fits\n",
      "-0.8852334645129183 -3.2916486374316634\n",
      "kb191129_00042_icubes.fits\n",
      "0.9715683433519189 -3.7063261596205805\n",
      "kb191129_00043_icubes.fits\n",
      "-0.7078849516808319 -5.866513418696719\n",
      "kb191129_00044_icubes.fits\n",
      "2.1875437402406774 4.948392926624869\n",
      "kb191129_00045_icubes.fits\n",
      "2.7183463630464537 -8.66123731911415\n",
      "kb191129_00046_icubes.fits\n",
      "-2.624613322969049 -9.170717334790332\n",
      "kb191129_00047_icubes.fits\n",
      "-2.968302787132549 2.9841386869990174\n",
      "kb191129_00048_icubes.fits\n",
      "1.9059642416515779 3.275261846151217\n",
      "kb191129_00049_icubes.fits\n",
      "2.2184194244069744 -6.623301147202312\n",
      "kb191129_00050_icubes.fits\n",
      "-1.905970751451072 -8.078965000921954\n",
      "kb191129_00051_icubes.fits\n",
      "-2.530869243422311 1.382899314723879\n",
      "kb191229_00044_icubes.fits\n",
      "-2.430308109229994 3.808475392309532\n",
      "kb191229_00045_icubes.fits\n",
      "-0.9279324162227951 6.793494551216355\n",
      "kb191229_00046_icubes.fits\n",
      "0.4418769081044793 2.470355300766677\n",
      "kb191229_00047_icubes.fits\n",
      "-1.148876688941698 0.4117269629184719\n"
     ]
    },
    {
     "data": {
      "image/png": "[encoded data removed]",
      "text/plain": [
       "<Figure size 432x288 with 1 Axes>"
      ]
     },
     "metadata": {
      "needs_background": "light"
     },
     "output_type": "display_data"
    }
   ],
   "source": [
    "kcwi.kcwi_align(fn)"
   ]
  },
  {
   "cell_type": "code",
   "execution_count": 4,
   "metadata": {},
   "outputs": [
    {
     "name": "stdout",
     "output_type": "stream",
     "text": [
      "Projecting...\n",
      "kb191129_00041_icubes.fits\n",
      "kb191129_00040_icubes.fits\n",
      "kb191129_00042_icubes.fits\n",
      "kb191129_00043_icubes.fits\n",
      "kb191129_00044_icubes.fits\n",
      "kb191129_00045_icubes.fits\n",
      "kb191129_00046_icubes.fits\n",
      "kb191129_00047_icubes.fits\n",
      "kb191129_00048_icubes.fits\n",
      "kb191129_00049_icubes.fits\n",
      "kb191129_00050_icubes.fits\n",
      "kb191129_00051_icubes.fits\n",
      "kb191229_00044_icubes.fits\n",
      "kb191229_00045_icubes.fits\n",
      "     Vcorr = -28.468726180699313 km / s\n",
      "     EXPTIME = 1200.0\n",
      "kb191229_00046_icubes.fits\n",
      "     Vcorr = -28.51061340853189 km / s\n",
      "     EXPTIME = 1200.0\n",
      "kb191229_00047_icubes.fits\n",
      "     Vcorr = -28.552404028110406 km / s\n",
      "     EXPTIME = 1200.0\n"
     ]
    },
    {
     "name": "stderr",
     "output_type": "stream",
     "text": [
      "  3%|▎         | 3/100 [00:00<00:03, 24.55it/s]"
     ]
    },
    {
     "name": "stdout",
     "output_type": "stream",
     "text": [
      "Stacking...\n"
     ]
    },
    {
     "name": "stderr",
     "output_type": "stream",
     "text": [
      "  6%|▌         | 6/100 [00:00<00:03, 25.16it/s]/scr/yuguangchen/Soft/py/kcwi/kcwi.py:872: RuntimeWarning: divide by zero encountered in true_divide\n",
      "  data_3d[ii,:,:]=np.transpose(np.nansum(img*weight,axis=0)/np.nansum(weight,axis=0))\n",
      "/scr/yuguangchen/Soft/py/kcwi/kcwi.py:872: RuntimeWarning: invalid value encountered in true_divide\n",
      "  data_3d[ii,:,:]=np.transpose(np.nansum(img*weight,axis=0)/np.nansum(weight,axis=0))\n",
      "/scr/yuguangchen/Soft/py/kcwi/kcwi.py:873: RuntimeWarning: divide by zero encountered in true_divide\n",
      "  vdata_3d[ii,:,:]=np.transpose(np.nansum(weight**2*var,axis=0)/np.nansum(weight,axis=0)**2)\n",
      "/scr/yuguangchen/Soft/py/kcwi/kcwi.py:873: RuntimeWarning: invalid value encountered in true_divide\n",
      "  vdata_3d[ii,:,:]=np.transpose(np.nansum(weight**2*var,axis=0)/np.nansum(weight,axis=0)**2)\n",
      "100%|██████████| 100/100 [00:20<00:00,  8.33it/s]\n"
     ]
    }
   ],
   "source": [
    "kcwi.kcwi_stack(fn)"
   ]
  },
  {
   "cell_type": "code",
   "execution_count": 5,
   "metadata": {},
   "outputs": [
    {
     "name": "stdout",
     "output_type": "stream",
     "text": [
      "q2343-BX610.list\n",
      "Iter: 1/2\n"
     ]
    },
    {
     "name": "stderr",
     "output_type": "stream",
     "text": [
      "WARNING: VerifyWarning: Verification reported errors: [astropy.io.fits.verify]\n",
      "WARNING: VerifyWarning: Card 'RDNOISE' is not FITS standard (invalid value string: 'INDEF').  Fixed 'RDNOISE' card to meet the FITS standard. [astropy.io.fits.verify]\n",
      "WARNING: VerifyWarning: Note: astropy.io.fits uses zero-based indexing.\n",
      " [astropy.io.fits.verify]\n",
      "WARNING: FITSFixedWarning: RADECSYS= 'FK5 ' \n",
      "the RADECSYS keyword is deprecated, use RADESYSa. [astropy.wcs.wcs]\n"
     ]
    },
    {
     "name": "stdout",
     "output_type": "stream",
     "text": [
      "Iter: 2/2\n",
      "-0.5 -0.7\n"
     ]
    },
    {
     "data": {
      "image/png": "[encoded data removed]",
      "text/plain": [
       "<Figure size 432x288 with 1 Axes>"
      ]
     },
     "metadata": {
      "needs_background": "light"
     },
     "output_type": "display_data"
    }
   ],
   "source": [
    "kcwi.kcwi_astrometry(fn)"
   ]
  },
  {
   "cell_type": "code",
   "execution_count": null,
   "metadata": {},
   "outputs": [],
   "source": []
  }
 ],
 "metadata": {
  "kernelspec": {
   "display_name": "Python [conda env:montage]",
   "language": "python",
   "name": "conda-env-montage-py"
  },
  "language_info": {
   "codemirror_mode": {
    "name": "ipython",
    "version": 3
   },
   "file_extension": ".py",
   "mimetype": "text/x-python",
   "name": "python",
   "nbconvert_exporter": "python",
   "pygments_lexer": "ipython3",
   "version": "3.6.8"
  }
 },
 "nbformat": 4,
 "nbformat_minor": 2
}
